{
 "cells": [
  {
   "cell_type": "markdown",
   "metadata": {},
   "source": [
    "<b>todo</b>\n",
    "<ul>\n",
    "<li>上市公司daily basic</li>\n",
    "<li>上市公司balance sheet</li>\n",
    "<li>上市公司balance sheet + price + 总股数 + 总市值</li>\n",
    "<li>处理NULL空值</li>\n",
    "<li>将数据划分为训练集和测试集</li>\n",
    "<li>处理NaN值</li>\n",
    "<li>处理NULL空值</li>\n",
    "<li>特征缩放</li>\n",
    "<li>应用算法</li>\n",
    "</ul>"
   ]
  },
  {
   "cell_type": "code",
   "execution_count": 1,
   "metadata": {},
   "outputs": [
    {
     "data": {
      "text/html": [
       "<div>\n",
       "<style scoped>\n",
       "    .dataframe tbody tr th:only-of-type {\n",
       "        vertical-align: middle;\n",
       "    }\n",
       "\n",
       "    .dataframe tbody tr th {\n",
       "        vertical-align: top;\n",
       "    }\n",
       "\n",
       "    .dataframe thead th {\n",
       "        text-align: right;\n",
       "    }\n",
       "</style>\n",
       "<table border=\"1\" class=\"dataframe\">\n",
       "  <thead>\n",
       "    <tr style=\"text-align: right;\">\n",
       "      <th></th>\n",
       "      <th>id</th>\n",
       "      <th>created_time</th>\n",
       "      <th>last_mod_time</th>\n",
       "      <th>ts_code</th>\n",
       "      <th>announce_date</th>\n",
       "      <th>end_date</th>\n",
       "      <th>eps</th>\n",
       "      <th>dt_eps</th>\n",
       "      <th>total_revenue_ps</th>\n",
       "      <th>revenue_ps</th>\n",
       "      <th>...</th>\n",
       "      <th>rd_exp</th>\n",
       "      <th>update_flag</th>\n",
       "      <th>company_id</th>\n",
       "      <th>pb</th>\n",
       "      <th>pe</th>\n",
       "      <th>pe_ttm</th>\n",
       "      <th>close</th>\n",
       "      <th>ps</th>\n",
       "      <th>ps_ttm</th>\n",
       "      <th>total_mv</th>\n",
       "    </tr>\n",
       "  </thead>\n",
       "  <tbody>\n",
       "    <tr>\n",
       "      <th>0</th>\n",
       "      <td>170267</td>\n",
       "      <td>2022-03-01 21:39:35.259782+08</td>\n",
       "      <td>2022-03-01 21:39:35.259793+08</td>\n",
       "      <td>600654.SH</td>\n",
       "      <td>1991-07-29</td>\n",
       "      <td>1990-06-30</td>\n",
       "      <td>NaN</td>\n",
       "      <td>NaN</td>\n",
       "      <td>1.2383</td>\n",
       "      <td>1.2383</td>\n",
       "      <td>...</td>\n",
       "      <td>NaN</td>\n",
       "      <td>1</td>\n",
       "      <td>3104</td>\n",
       "      <td>42.0487</td>\n",
       "      <td>623.1571</td>\n",
       "      <td>1673.1489</td>\n",
       "      <td>NaN</td>\n",
       "      <td>20.9384</td>\n",
       "      <td>19.1352</td>\n",
       "      <td>106310.6000</td>\n",
       "    </tr>\n",
       "    <tr>\n",
       "      <th>1</th>\n",
       "      <td>169943</td>\n",
       "      <td>2022-03-01 21:39:29.132431+08</td>\n",
       "      <td>2022-03-01 21:39:29.132443+08</td>\n",
       "      <td>600651.SH</td>\n",
       "      <td>1991-07-29</td>\n",
       "      <td>1990-06-30</td>\n",
       "      <td>NaN</td>\n",
       "      <td>NaN</td>\n",
       "      <td>1.6050</td>\n",
       "      <td>1.6050</td>\n",
       "      <td>...</td>\n",
       "      <td>NaN</td>\n",
       "      <td>1</td>\n",
       "      <td>3101</td>\n",
       "      <td>7.4072</td>\n",
       "      <td>NaN</td>\n",
       "      <td>28.3600</td>\n",
       "      <td>NaN</td>\n",
       "      <td>NaN</td>\n",
       "      <td>1.2657</td>\n",
       "      <td>1669.9566</td>\n",
       "    </tr>\n",
       "    <tr>\n",
       "      <th>2</th>\n",
       "      <td>169941</td>\n",
       "      <td>2022-03-01 21:39:29.121229+08</td>\n",
       "      <td>2022-03-01 21:39:29.121244+08</td>\n",
       "      <td>600651.SH</td>\n",
       "      <td>1991-07-29</td>\n",
       "      <td>1991-06-30</td>\n",
       "      <td>NaN</td>\n",
       "      <td>NaN</td>\n",
       "      <td>3.4953</td>\n",
       "      <td>3.4953</td>\n",
       "      <td>...</td>\n",
       "      <td>NaN</td>\n",
       "      <td>0</td>\n",
       "      <td>3101</td>\n",
       "      <td>7.4072</td>\n",
       "      <td>NaN</td>\n",
       "      <td>28.3600</td>\n",
       "      <td>NaN</td>\n",
       "      <td>NaN</td>\n",
       "      <td>1.2657</td>\n",
       "      <td>1669.9566</td>\n",
       "    </tr>\n",
       "    <tr>\n",
       "      <th>3</th>\n",
       "      <td>165590</td>\n",
       "      <td>2022-03-01 21:38:12.785825+08</td>\n",
       "      <td>2022-03-01 21:38:12.785845+08</td>\n",
       "      <td>600602.SH</td>\n",
       "      <td>1991-07-29</td>\n",
       "      <td>1990-06-30</td>\n",
       "      <td>NaN</td>\n",
       "      <td>NaN</td>\n",
       "      <td>1.3155</td>\n",
       "      <td>1.3155</td>\n",
       "      <td>...</td>\n",
       "      <td>NaN</td>\n",
       "      <td>0</td>\n",
       "      <td>3060</td>\n",
       "      <td>3.2406</td>\n",
       "      <td>NaN</td>\n",
       "      <td>NaN</td>\n",
       "      <td>NaN</td>\n",
       "      <td>NaN</td>\n",
       "      <td>NaN</td>\n",
       "      <td>94400.0000</td>\n",
       "    </tr>\n",
       "    <tr>\n",
       "      <th>4</th>\n",
       "      <td>170157</td>\n",
       "      <td>2022-03-01 21:39:33.46794+08</td>\n",
       "      <td>2022-03-01 21:39:33.467953+08</td>\n",
       "      <td>600653.SH</td>\n",
       "      <td>1991-07-29</td>\n",
       "      <td>1991-06-30</td>\n",
       "      <td>NaN</td>\n",
       "      <td>NaN</td>\n",
       "      <td>0.9465</td>\n",
       "      <td>0.9465</td>\n",
       "      <td>...</td>\n",
       "      <td>NaN</td>\n",
       "      <td>0</td>\n",
       "      <td>3103</td>\n",
       "      <td>3.6163</td>\n",
       "      <td>273.2456</td>\n",
       "      <td>98.3714</td>\n",
       "      <td>NaN</td>\n",
       "      <td>3.1702</td>\n",
       "      <td>3.4486</td>\n",
       "      <td>3115.0000</td>\n",
       "    </tr>\n",
       "  </tbody>\n",
       "</table>\n",
       "<p>5 rows × 178 columns</p>\n",
       "</div>"
      ],
      "text/plain": [
       "       id                   created_time                  last_mod_time  \\\n",
       "0  170267  2022-03-01 21:39:35.259782+08  2022-03-01 21:39:35.259793+08   \n",
       "1  169943  2022-03-01 21:39:29.132431+08  2022-03-01 21:39:29.132443+08   \n",
       "2  169941  2022-03-01 21:39:29.121229+08  2022-03-01 21:39:29.121244+08   \n",
       "3  165590  2022-03-01 21:38:12.785825+08  2022-03-01 21:38:12.785845+08   \n",
       "4  170157   2022-03-01 21:39:33.46794+08  2022-03-01 21:39:33.467953+08   \n",
       "\n",
       "     ts_code announce_date    end_date  eps  dt_eps  total_revenue_ps  \\\n",
       "0  600654.SH    1991-07-29  1990-06-30  NaN     NaN            1.2383   \n",
       "1  600651.SH    1991-07-29  1990-06-30  NaN     NaN            1.6050   \n",
       "2  600651.SH    1991-07-29  1991-06-30  NaN     NaN            3.4953   \n",
       "3  600602.SH    1991-07-29  1990-06-30  NaN     NaN            1.3155   \n",
       "4  600653.SH    1991-07-29  1991-06-30  NaN     NaN            0.9465   \n",
       "\n",
       "   revenue_ps  ...  rd_exp  update_flag  company_id       pb        pe  \\\n",
       "0      1.2383  ...     NaN            1        3104  42.0487  623.1571   \n",
       "1      1.6050  ...     NaN            1        3101   7.4072       NaN   \n",
       "2      3.4953  ...     NaN            0        3101   7.4072       NaN   \n",
       "3      1.3155  ...     NaN            0        3060   3.2406       NaN   \n",
       "4      0.9465  ...     NaN            0        3103   3.6163  273.2456   \n",
       "\n",
       "      pe_ttm  close       ps   ps_ttm     total_mv  \n",
       "0  1673.1489    NaN  20.9384  19.1352  106310.6000  \n",
       "1    28.3600    NaN      NaN   1.2657    1669.9566  \n",
       "2    28.3600    NaN      NaN   1.2657    1669.9566  \n",
       "3        NaN    NaN      NaN      NaN   94400.0000  \n",
       "4    98.3714    NaN   3.1702   3.4486    3115.0000  \n",
       "\n",
       "[5 rows x 178 columns]"
      ]
     },
     "execution_count": 1,
     "metadata": {},
     "output_type": "execute_result"
    }
   ],
   "source": [
    "import pandas as pd\n",
    "import os\n",
    "\n",
    "# Build paths inside the project like this: os.path.join(BASE_DIR, ...)\n",
    "BASE_DIR = os.path.abspath('..')\n",
    "PROJ_ROOT = os.path.join(BASE_DIR, 'investtrack')\n",
    "MODEL_PATH = os.path.join(BASE_DIR, 'diggings/model/')\n",
    "\n",
    "FIN_DATA_PATH = os.path.join(BASE_DIR, 'diggings/data')\n",
    "\n",
    "def load_fin_data(ts_code, fin_path=FIN_DATA_PATH):\n",
    "    csv = os.path.join(fin_path, 'findata_' + ts_code + '.csv')\n",
    "    return pd.read_csv(csv)\n",
    "\n",
    "fin_data = load_fin_data('all')\n",
    "fin_data.head()"
   ]
  },
  {
   "cell_type": "code",
   "execution_count": 2,
   "metadata": {},
   "outputs": [
    {
     "data": {
      "text/html": [
       "<div>\n",
       "<style scoped>\n",
       "    .dataframe tbody tr th:only-of-type {\n",
       "        vertical-align: middle;\n",
       "    }\n",
       "\n",
       "    .dataframe tbody tr th {\n",
       "        vertical-align: top;\n",
       "    }\n",
       "\n",
       "    .dataframe thead th {\n",
       "        text-align: right;\n",
       "    }\n",
       "</style>\n",
       "<table border=\"1\" class=\"dataframe\">\n",
       "  <thead>\n",
       "    <tr style=\"text-align: right;\">\n",
       "      <th></th>\n",
       "      <th>ts_code</th>\n",
       "      <th>announce_date</th>\n",
       "      <th>end_date</th>\n",
       "      <th>eps</th>\n",
       "      <th>dt_eps</th>\n",
       "      <th>total_revenue_ps</th>\n",
       "      <th>revenue_ps</th>\n",
       "      <th>capital_rese_ps</th>\n",
       "      <th>surplus_rese_ps</th>\n",
       "      <th>undist_profit_ps</th>\n",
       "      <th>...</th>\n",
       "      <th>rd_exp</th>\n",
       "      <th>update_flag</th>\n",
       "      <th>company_id</th>\n",
       "      <th>pb</th>\n",
       "      <th>pe</th>\n",
       "      <th>pe_ttm</th>\n",
       "      <th>close</th>\n",
       "      <th>ps</th>\n",
       "      <th>ps_ttm</th>\n",
       "      <th>total_mv</th>\n",
       "    </tr>\n",
       "  </thead>\n",
       "  <tbody>\n",
       "    <tr>\n",
       "      <th>0</th>\n",
       "      <td>600654.SH</td>\n",
       "      <td>1991-07-29</td>\n",
       "      <td>1990-06-30</td>\n",
       "      <td>NaN</td>\n",
       "      <td>NaN</td>\n",
       "      <td>1.2383</td>\n",
       "      <td>1.2383</td>\n",
       "      <td>NaN</td>\n",
       "      <td>NaN</td>\n",
       "      <td>0.2207</td>\n",
       "      <td>...</td>\n",
       "      <td>NaN</td>\n",
       "      <td>1</td>\n",
       "      <td>3104</td>\n",
       "      <td>42.0487</td>\n",
       "      <td>623.1571</td>\n",
       "      <td>1673.1489</td>\n",
       "      <td>NaN</td>\n",
       "      <td>20.9384</td>\n",
       "      <td>19.1352</td>\n",
       "      <td>106310.6000</td>\n",
       "    </tr>\n",
       "    <tr>\n",
       "      <th>1</th>\n",
       "      <td>600651.SH</td>\n",
       "      <td>1991-07-29</td>\n",
       "      <td>1990-06-30</td>\n",
       "      <td>NaN</td>\n",
       "      <td>NaN</td>\n",
       "      <td>1.6050</td>\n",
       "      <td>1.6050</td>\n",
       "      <td>0.0039</td>\n",
       "      <td>NaN</td>\n",
       "      <td>0.2350</td>\n",
       "      <td>...</td>\n",
       "      <td>NaN</td>\n",
       "      <td>1</td>\n",
       "      <td>3101</td>\n",
       "      <td>7.4072</td>\n",
       "      <td>NaN</td>\n",
       "      <td>28.3600</td>\n",
       "      <td>NaN</td>\n",
       "      <td>NaN</td>\n",
       "      <td>1.2657</td>\n",
       "      <td>1669.9566</td>\n",
       "    </tr>\n",
       "    <tr>\n",
       "      <th>2</th>\n",
       "      <td>600651.SH</td>\n",
       "      <td>1991-07-29</td>\n",
       "      <td>1991-06-30</td>\n",
       "      <td>NaN</td>\n",
       "      <td>NaN</td>\n",
       "      <td>3.4953</td>\n",
       "      <td>3.4953</td>\n",
       "      <td>0.0039</td>\n",
       "      <td>NaN</td>\n",
       "      <td>0.3650</td>\n",
       "      <td>...</td>\n",
       "      <td>NaN</td>\n",
       "      <td>0</td>\n",
       "      <td>3101</td>\n",
       "      <td>7.4072</td>\n",
       "      <td>NaN</td>\n",
       "      <td>28.3600</td>\n",
       "      <td>NaN</td>\n",
       "      <td>NaN</td>\n",
       "      <td>1.2657</td>\n",
       "      <td>1669.9566</td>\n",
       "    </tr>\n",
       "    <tr>\n",
       "      <th>3</th>\n",
       "      <td>600602.SH</td>\n",
       "      <td>1991-07-29</td>\n",
       "      <td>1990-06-30</td>\n",
       "      <td>NaN</td>\n",
       "      <td>NaN</td>\n",
       "      <td>1.3155</td>\n",
       "      <td>1.3155</td>\n",
       "      <td>NaN</td>\n",
       "      <td>NaN</td>\n",
       "      <td>1.3741</td>\n",
       "      <td>...</td>\n",
       "      <td>NaN</td>\n",
       "      <td>0</td>\n",
       "      <td>3060</td>\n",
       "      <td>3.2406</td>\n",
       "      <td>NaN</td>\n",
       "      <td>NaN</td>\n",
       "      <td>NaN</td>\n",
       "      <td>NaN</td>\n",
       "      <td>NaN</td>\n",
       "      <td>94400.0000</td>\n",
       "    </tr>\n",
       "    <tr>\n",
       "      <th>4</th>\n",
       "      <td>600653.SH</td>\n",
       "      <td>1991-07-29</td>\n",
       "      <td>1991-06-30</td>\n",
       "      <td>NaN</td>\n",
       "      <td>NaN</td>\n",
       "      <td>0.9465</td>\n",
       "      <td>0.9465</td>\n",
       "      <td>0.6651</td>\n",
       "      <td>NaN</td>\n",
       "      <td>0.0577</td>\n",
       "      <td>...</td>\n",
       "      <td>NaN</td>\n",
       "      <td>0</td>\n",
       "      <td>3103</td>\n",
       "      <td>3.6163</td>\n",
       "      <td>273.2456</td>\n",
       "      <td>98.3714</td>\n",
       "      <td>NaN</td>\n",
       "      <td>3.1702</td>\n",
       "      <td>3.4486</td>\n",
       "      <td>3115.0000</td>\n",
       "    </tr>\n",
       "  </tbody>\n",
       "</table>\n",
       "<p>5 rows × 175 columns</p>\n",
       "</div>"
      ],
      "text/plain": [
       "     ts_code announce_date    end_date  eps  dt_eps  total_revenue_ps  \\\n",
       "0  600654.SH    1991-07-29  1990-06-30  NaN     NaN            1.2383   \n",
       "1  600651.SH    1991-07-29  1990-06-30  NaN     NaN            1.6050   \n",
       "2  600651.SH    1991-07-29  1991-06-30  NaN     NaN            3.4953   \n",
       "3  600602.SH    1991-07-29  1990-06-30  NaN     NaN            1.3155   \n",
       "4  600653.SH    1991-07-29  1991-06-30  NaN     NaN            0.9465   \n",
       "\n",
       "   revenue_ps  capital_rese_ps  surplus_rese_ps  undist_profit_ps  ...  \\\n",
       "0      1.2383              NaN              NaN            0.2207  ...   \n",
       "1      1.6050           0.0039              NaN            0.2350  ...   \n",
       "2      3.4953           0.0039              NaN            0.3650  ...   \n",
       "3      1.3155              NaN              NaN            1.3741  ...   \n",
       "4      0.9465           0.6651              NaN            0.0577  ...   \n",
       "\n",
       "   rd_exp  update_flag  company_id       pb        pe     pe_ttm  close  \\\n",
       "0     NaN            1        3104  42.0487  623.1571  1673.1489    NaN   \n",
       "1     NaN            1        3101   7.4072       NaN    28.3600    NaN   \n",
       "2     NaN            0        3101   7.4072       NaN    28.3600    NaN   \n",
       "3     NaN            0        3060   3.2406       NaN        NaN    NaN   \n",
       "4     NaN            0        3103   3.6163  273.2456    98.3714    NaN   \n",
       "\n",
       "        ps   ps_ttm     total_mv  \n",
       "0  20.9384  19.1352  106310.6000  \n",
       "1      NaN   1.2657    1669.9566  \n",
       "2      NaN   1.2657    1669.9566  \n",
       "3      NaN      NaN   94400.0000  \n",
       "4   3.1702   3.4486    3115.0000  \n",
       "\n",
       "[5 rows x 175 columns]"
      ]
     },
     "execution_count": 2,
     "metadata": {},
     "output_type": "execute_result"
    }
   ],
   "source": [
    "fin_data = fin_data.drop(['id','created_time','last_mod_time'],axis=1)\n",
    "fin_data.head()"
   ]
  },
  {
   "cell_type": "code",
   "execution_count": 3,
   "metadata": {},
   "outputs": [
    {
     "data": {
      "text/plain": [
       "count    1.539470e+05\n",
       "mean     2.550647e+09\n",
       "std      5.628574e+09\n",
       "min     -3.272775e+10\n",
       "25%      5.582283e+08\n",
       "50%      1.101216e+09\n",
       "75%      2.345372e+09\n",
       "max      1.156236e+11\n",
       "Name: tangible_asset, dtype: float64"
      ]
     },
     "execution_count": 3,
     "metadata": {},
     "output_type": "execute_result"
    }
   ],
   "source": [
    "import math\n",
    "import matplotlib.pyplot as plt\n",
    "\n",
    "fin_data_lte120b = fin_data[fin_data['total_mv']<12000000].copy()\n",
    "fin_data_lte120b = fin_data_lte120b[fin_data_lte120b['tangible_asset']< 1.5 * math.pow(10, 11)].copy()\n",
    "fin_data_lte120b = fin_data_lte120b[fin_data_lte120b['tangible_asset']> -0.35 * math.pow(10, 11)].copy()\n",
    "fin_data_lte120b['tangible_asset'].describe()\n"
   ]
  },
  {
   "cell_type": "code",
   "execution_count": 12,
   "metadata": {},
   "outputs": [
    {
     "data": {
      "text/html": [
       "<div>\n",
       "<style scoped>\n",
       "    .dataframe tbody tr th:only-of-type {\n",
       "        vertical-align: middle;\n",
       "    }\n",
       "\n",
       "    .dataframe tbody tr th {\n",
       "        vertical-align: top;\n",
       "    }\n",
       "\n",
       "    .dataframe thead th {\n",
       "        text-align: right;\n",
       "    }\n",
       "</style>\n",
       "<table border=\"1\" class=\"dataframe\">\n",
       "  <thead>\n",
       "    <tr style=\"text-align: right;\">\n",
       "      <th></th>\n",
       "      <th>eps</th>\n",
       "      <th>dt_eps</th>\n",
       "      <th>total_revenue_ps</th>\n",
       "      <th>revenue_ps</th>\n",
       "      <th>capital_rese_ps</th>\n",
       "      <th>surplus_rese_ps</th>\n",
       "      <th>undist_profit_ps</th>\n",
       "      <th>extra_item</th>\n",
       "      <th>profit_dedt</th>\n",
       "      <th>gross_margin</th>\n",
       "      <th>...</th>\n",
       "      <th>rd_exp</th>\n",
       "      <th>update_flag</th>\n",
       "      <th>company_id</th>\n",
       "      <th>pb</th>\n",
       "      <th>pe</th>\n",
       "      <th>pe_ttm</th>\n",
       "      <th>close</th>\n",
       "      <th>ps</th>\n",
       "      <th>ps_ttm</th>\n",
       "      <th>total_mv</th>\n",
       "    </tr>\n",
       "  </thead>\n",
       "  <tbody>\n",
       "    <tr>\n",
       "      <th>0</th>\n",
       "      <td>NaN</td>\n",
       "      <td>NaN</td>\n",
       "      <td>1.2383</td>\n",
       "      <td>1.2383</td>\n",
       "      <td>NaN</td>\n",
       "      <td>NaN</td>\n",
       "      <td>0.2207</td>\n",
       "      <td>NaN</td>\n",
       "      <td>NaN</td>\n",
       "      <td>1716264.20</td>\n",
       "      <td>...</td>\n",
       "      <td>NaN</td>\n",
       "      <td>1</td>\n",
       "      <td>3104</td>\n",
       "      <td>42.0487</td>\n",
       "      <td>623.1571</td>\n",
       "      <td>1673.1489</td>\n",
       "      <td>NaN</td>\n",
       "      <td>20.9384</td>\n",
       "      <td>19.1352</td>\n",
       "      <td>106310.6000</td>\n",
       "    </tr>\n",
       "    <tr>\n",
       "      <th>1</th>\n",
       "      <td>NaN</td>\n",
       "      <td>NaN</td>\n",
       "      <td>1.6050</td>\n",
       "      <td>1.6050</td>\n",
       "      <td>0.0039</td>\n",
       "      <td>NaN</td>\n",
       "      <td>0.2350</td>\n",
       "      <td>NaN</td>\n",
       "      <td>NaN</td>\n",
       "      <td>528446.72</td>\n",
       "      <td>...</td>\n",
       "      <td>NaN</td>\n",
       "      <td>1</td>\n",
       "      <td>3101</td>\n",
       "      <td>7.4072</td>\n",
       "      <td>NaN</td>\n",
       "      <td>28.3600</td>\n",
       "      <td>NaN</td>\n",
       "      <td>NaN</td>\n",
       "      <td>1.2657</td>\n",
       "      <td>1669.9566</td>\n",
       "    </tr>\n",
       "    <tr>\n",
       "      <th>2</th>\n",
       "      <td>NaN</td>\n",
       "      <td>NaN</td>\n",
       "      <td>3.4953</td>\n",
       "      <td>3.4953</td>\n",
       "      <td>0.0039</td>\n",
       "      <td>NaN</td>\n",
       "      <td>0.3650</td>\n",
       "      <td>NaN</td>\n",
       "      <td>NaN</td>\n",
       "      <td>1327279.41</td>\n",
       "      <td>...</td>\n",
       "      <td>NaN</td>\n",
       "      <td>0</td>\n",
       "      <td>3101</td>\n",
       "      <td>7.4072</td>\n",
       "      <td>NaN</td>\n",
       "      <td>28.3600</td>\n",
       "      <td>NaN</td>\n",
       "      <td>NaN</td>\n",
       "      <td>1.2657</td>\n",
       "      <td>1669.9566</td>\n",
       "    </tr>\n",
       "    <tr>\n",
       "      <th>3</th>\n",
       "      <td>NaN</td>\n",
       "      <td>NaN</td>\n",
       "      <td>1.3155</td>\n",
       "      <td>1.3155</td>\n",
       "      <td>NaN</td>\n",
       "      <td>NaN</td>\n",
       "      <td>1.3741</td>\n",
       "      <td>NaN</td>\n",
       "      <td>NaN</td>\n",
       "      <td>81943000.00</td>\n",
       "      <td>...</td>\n",
       "      <td>NaN</td>\n",
       "      <td>0</td>\n",
       "      <td>3060</td>\n",
       "      <td>3.2406</td>\n",
       "      <td>NaN</td>\n",
       "      <td>NaN</td>\n",
       "      <td>NaN</td>\n",
       "      <td>NaN</td>\n",
       "      <td>NaN</td>\n",
       "      <td>94400.0000</td>\n",
       "    </tr>\n",
       "    <tr>\n",
       "      <th>4</th>\n",
       "      <td>NaN</td>\n",
       "      <td>NaN</td>\n",
       "      <td>0.9465</td>\n",
       "      <td>0.9465</td>\n",
       "      <td>0.6651</td>\n",
       "      <td>NaN</td>\n",
       "      <td>0.0577</td>\n",
       "      <td>NaN</td>\n",
       "      <td>NaN</td>\n",
       "      <td>463493.41</td>\n",
       "      <td>...</td>\n",
       "      <td>NaN</td>\n",
       "      <td>0</td>\n",
       "      <td>3103</td>\n",
       "      <td>3.6163</td>\n",
       "      <td>273.2456</td>\n",
       "      <td>98.3714</td>\n",
       "      <td>NaN</td>\n",
       "      <td>3.1702</td>\n",
       "      <td>3.4486</td>\n",
       "      <td>3115.0000</td>\n",
       "    </tr>\n",
       "  </tbody>\n",
       "</table>\n",
       "<p>5 rows × 172 columns</p>\n",
       "</div>"
      ],
      "text/plain": [
       "   eps  dt_eps  total_revenue_ps  revenue_ps  capital_rese_ps  \\\n",
       "0  NaN     NaN            1.2383      1.2383              NaN   \n",
       "1  NaN     NaN            1.6050      1.6050           0.0039   \n",
       "2  NaN     NaN            3.4953      3.4953           0.0039   \n",
       "3  NaN     NaN            1.3155      1.3155              NaN   \n",
       "4  NaN     NaN            0.9465      0.9465           0.6651   \n",
       "\n",
       "   surplus_rese_ps  undist_profit_ps  extra_item  profit_dedt  gross_margin  \\\n",
       "0              NaN            0.2207         NaN          NaN    1716264.20   \n",
       "1              NaN            0.2350         NaN          NaN     528446.72   \n",
       "2              NaN            0.3650         NaN          NaN    1327279.41   \n",
       "3              NaN            1.3741         NaN          NaN   81943000.00   \n",
       "4              NaN            0.0577         NaN          NaN     463493.41   \n",
       "\n",
       "   ...  rd_exp  update_flag  company_id       pb        pe     pe_ttm  close  \\\n",
       "0  ...     NaN            1        3104  42.0487  623.1571  1673.1489    NaN   \n",
       "1  ...     NaN            1        3101   7.4072       NaN    28.3600    NaN   \n",
       "2  ...     NaN            0        3101   7.4072       NaN    28.3600    NaN   \n",
       "3  ...     NaN            0        3060   3.2406       NaN        NaN    NaN   \n",
       "4  ...     NaN            0        3103   3.6163  273.2456    98.3714    NaN   \n",
       "\n",
       "        ps   ps_ttm     total_mv  \n",
       "0  20.9384  19.1352  106310.6000  \n",
       "1      NaN   1.2657    1669.9566  \n",
       "2      NaN   1.2657    1669.9566  \n",
       "3      NaN      NaN   94400.0000  \n",
       "4   3.1702   3.4486    3115.0000  \n",
       "\n",
       "[5 rows x 172 columns]"
      ]
     },
     "execution_count": 12,
     "metadata": {},
     "output_type": "execute_result"
    }
   ],
   "source": [
    "fin_data_lte120b = fin_data_lte120b.drop(['ts_code','announce_date','end_date'],axis=1)\n",
    "fin_data_lte120b.head()"
   ]
  },
  {
   "cell_type": "code",
   "execution_count": 4,
   "metadata": {},
   "outputs": [
    {
     "data": {
      "text/plain": [
       "<AxesSubplot:xlabel='tangible_asset', ylabel='total_mv'>"
      ]
     },
     "execution_count": 4,
     "metadata": {},
     "output_type": "execute_result"
    },
    {
     "data": {
      "image/png": "[encoded data removed]",
      "text/plain": [
       "<Figure size 432x288 with 1 Axes>"
      ]
     },
     "metadata": {
      "needs_background": "light"
     },
     "output_type": "display_data"
    }
   ],
   "source": [
    "fin_data_lte120b.plot(kind='scatter', x='tangible_asset', y='total_mv', alpha=0.4)"
   ]
  },
  {
   "cell_type": "code",
   "execution_count": 5,
   "metadata": {},
   "outputs": [],
   "source": [
    "import numpy as np\n",
    "\n",
    "def split_train_test(data, test_ratio):\n",
    "    shuffled_indices = np.random.permutation(len(data))\n",
    "    test_set_size = int(len(data) * test_ratio)\n",
    "    test_indices = shuffled_indices[:test_set_size]\n",
    "    train_indices = shuffled_indices[test_set_size:]\n",
    "    return data.iloc[train_indices],data.iloc[test_indices]"
   ]
  },
  {
   "cell_type": "code",
   "execution_count": 13,
   "metadata": {},
   "outputs": [],
   "source": [
    "train_set,test_set = split_train_test(fin_data_lte120b, 0.2)"
   ]
  },
  {
   "cell_type": "code",
   "execution_count": null,
   "metadata": {},
   "outputs": [],
   "source": [
    "# tangible_set = train_set.d\n",
    "# train_set.describe()"
   ]
  },
  {
   "cell_type": "markdown",
   "metadata": {},
   "source": [
    "\n"
   ]
  },
  {
   "cell_type": "code",
   "execution_count": 14,
   "metadata": {},
   "outputs": [
    {
     "data": {
      "text/plain": [
       "array([ 1.40000000e-01,  1.40000000e-01,  1.95075000e+00,  1.94715000e+00,\n",
       "        1.45390000e+00,  1.82500000e-01,  8.71000000e-01,  4.48670630e+06,\n",
       "        3.72016468e+07,  1.74314674e+08,  1.62370000e+00,  1.18100000e+00,\n",
       "        9.68100000e-01,  1.01339900e+02,  6.55093500e+01,  2.05380000e+00,\n",
       "        3.28885000e+00,  5.54800000e-01,  1.71140000e+00,  2.94200000e-01,\n",
       "        4.03538140e+07,  2.74154705e+06,  7.53506853e+06,  3.25648876e+07,\n",
       "        7.00491382e+07,  1.19046128e+08, -4.70330017e+07, -2.26798245e+07,\n",
       "        4.33501513e+08,  2.90935318e+07,  3.55056940e+08,  6.00734932e+07,\n",
       "        1.09984487e+09,  4.53884903e+08,  3.75079268e+08,  1.90329711e+09,\n",
       "        3.56961598e+08,  1.31500000e-01,  3.61355000e+00,  8.29000000e-02,\n",
       "        1.07975000e+00, -2.56000000e-02,  2.08400000e-01, -1.39500000e-01,\n",
       "       -6.78000000e-02,  6.98420000e+00,  2.52060000e+01,  7.47940000e+01,\n",
       "        1.58834000e+01,  6.98000000e+00,  4.19305000e+00,  8.65735000e+00,\n",
       "        1.03370000e+00,  8.90000000e-02,  9.38977000e+01,  7.76500000e+00,\n",
       "        1.00630000e+01,  3.77090000e+00,  3.94000000e+00,  3.00495000e+00,\n",
       "        2.99475000e+00,  2.03600000e+00,  3.08495000e+00,  7.03090000e+00,\n",
       "        5.39000000e+00,  3.74000000e+00,  8.71254000e+01,  3.97275000e+00,\n",
       "        7.50700000e-01,  1.60986000e+01,  9.18396000e+01,  1.01440000e+00,\n",
       "        4.47000000e-02,  6.81500000e-01,  1.55150000e+00,  4.21001000e+01,\n",
       "        1.72030000e+00,  1.81425000e+00,  5.87626000e+01,  4.12708000e+01,\n",
       "        4.68942500e+01,  2.34169000e+01,  7.32976000e+01,  8.90024000e+01,\n",
       "        1.24825500e+01,  3.91000000e-02,  7.26800000e-01,  1.30400000e+00,\n",
       "        2.45890000e+00,  1.11030000e+00,  2.04790000e+00,  1.87990000e+00,\n",
       "        3.07000000e-02,  5.37000000e-02,  5.07000000e-02,  4.67910000e+00,\n",
       "        1.49000000e-01,  1.25100000e-01,  1.86988150e+02,  3.79950000e+00,\n",
       "        1.90080000e+00,  5.39305975e+08,  6.58923586e+07,  6.45328780e+05,\n",
       "        9.89504500e+01,  1.06050000e+00,  5.75905000e+01,  4.02800000e-01,\n",
       "        9.18000000e-01,  6.90000000e-02,  5.46000000e-02,  5.61725000e+00,\n",
       "        1.27810000e+00,  8.47150000e+00,  1.93528441e+07,  1.21281549e+06,\n",
       "        1.75166308e+07,  6.31000000e-02,  6.65260000e+00,  2.51332000e+01,\n",
       "        1.59894000e+01,  6.64665000e+00,  4.24345000e+00,  8.75350000e+00,\n",
       "        9.72600000e-01,  5.71000000e-02,  9.42451500e+01,  7.36990000e+00,\n",
       "        1.75530000e+00,  1.44220000e+00,  9.53650000e-01,  8.73403000e+01,\n",
       "        3.40190000e+00,  9.27072500e+01,  1.01220300e+02,  7.38285000e+00,\n",
       "        9.18181000e+01,  5.72845000e+00,  6.55020000e+00, -7.29900000e-01,\n",
       "        1.18361000e+01,  1.14533000e+01,  1.13674500e+01,  1.09400000e+01,\n",
       "        2.53570000e+00, -2.19530000e+00,  1.80330000e+00,  4.32400000e+00,\n",
       "        2.76390000e+00,  1.26269500e+01,  1.26164000e+01,  1.28122000e+01,\n",
       "        4.37685000e+00,  1.28011000e+01,  4.38160000e+00,  1.13233500e+01,\n",
       "        3.23420000e+00,  1.13937000e+01,  3.29075000e+00,  1.12674000e+01,\n",
       "        3.32210000e+00,  6.40900000e+00,  2.90185388e+07,  1.00000000e+00,\n",
       "        1.96600000e+03,  3.14030000e+00,  4.45046000e+01,  4.12883000e+01,\n",
       "        8.78000000e+00,  3.48910000e+00,  3.34390000e+00,  4.33109598e+05])"
      ]
     },
     "execution_count": 14,
     "metadata": {},
     "output_type": "execute_result"
    }
   ],
   "source": [
    "from sklearn.impute import SimpleImputer\n",
    "\n",
    "imputer = SimpleImputer(strategy='median')\n",
    "\n",
    "imputer.fit(train_set)\n",
    "imputer.statistics_"
   ]
  },
  {
   "cell_type": "code",
   "execution_count": 15,
   "metadata": {},
   "outputs": [
    {
     "data": {
      "text/plain": [
       "array([ 1.40000000e-01,  1.40000000e-01,  1.95075000e+00,  1.94715000e+00,\n",
       "        1.45390000e+00,  1.82500000e-01,  8.71000000e-01,  4.48670630e+06,\n",
       "        3.72016468e+07,  1.74314674e+08,  1.62370000e+00,  1.18100000e+00,\n",
       "        9.68100000e-01,  1.01339900e+02,  6.55093500e+01,  2.05380000e+00,\n",
       "        3.28885000e+00,  5.54800000e-01,  1.71140000e+00,  2.94200000e-01,\n",
       "        4.03538140e+07,  2.74154705e+06,  7.53506853e+06,  3.25648876e+07,\n",
       "        7.00491382e+07,  1.19046128e+08, -4.70330017e+07, -2.26798245e+07,\n",
       "        4.33501513e+08,  2.90935318e+07,  3.55056940e+08,  6.00734932e+07,\n",
       "        1.09984487e+09,  4.53884903e+08,  3.75079268e+08,  1.90329711e+09,\n",
       "        3.56961598e+08,  1.31500000e-01,  3.61355000e+00,  8.29000000e-02,\n",
       "        1.07975000e+00, -2.56000000e-02,  2.08400000e-01, -1.39500000e-01,\n",
       "       -6.78000000e-02,  6.98420000e+00,  2.52060000e+01,  7.47940000e+01,\n",
       "        1.58834000e+01,  6.98000000e+00,  4.19305000e+00,  8.65735000e+00,\n",
       "        1.03370000e+00,  8.90000000e-02,  9.38977000e+01,  7.76500000e+00,\n",
       "        1.00630000e+01,  3.77090000e+00,  3.94000000e+00,  3.00495000e+00,\n",
       "        2.99475000e+00,  2.03600000e+00,  3.08495000e+00,  7.03090000e+00,\n",
       "        5.39000000e+00,  3.74000000e+00,  8.71254000e+01,  3.97275000e+00,\n",
       "        7.50700000e-01,  1.60986000e+01,  9.18396000e+01,  1.01440000e+00,\n",
       "        4.47000000e-02,  6.81500000e-01,  1.55150000e+00,  4.21001000e+01,\n",
       "        1.72030000e+00,  1.81425000e+00,  5.87626000e+01,  4.12708000e+01,\n",
       "        4.68942500e+01,  2.34169000e+01,  7.32976000e+01,  8.90024000e+01,\n",
       "        1.24825500e+01,  3.91000000e-02,  7.26800000e-01,  1.30400000e+00,\n",
       "        2.45890000e+00,  1.11030000e+00,  2.04790000e+00,  1.87990000e+00,\n",
       "        3.07000000e-02,  5.37000000e-02,  5.07000000e-02,  4.67910000e+00,\n",
       "        1.49000000e-01,  1.25100000e-01,  1.86988150e+02,  3.79950000e+00,\n",
       "        1.90080000e+00,  5.39305975e+08,  6.58923586e+07,  6.45328780e+05,\n",
       "        9.89504500e+01,  1.06050000e+00,  5.75905000e+01,  4.02800000e-01,\n",
       "        9.18000000e-01,  6.90000000e-02,  5.46000000e-02,  5.61725000e+00,\n",
       "        1.27810000e+00,  8.47150000e+00,  1.93528441e+07,  1.21281549e+06,\n",
       "        1.75166308e+07,  6.31000000e-02,  6.65260000e+00,  2.51332000e+01,\n",
       "        1.59894000e+01,  6.64665000e+00,  4.24345000e+00,  8.75350000e+00,\n",
       "        9.72600000e-01,  5.71000000e-02,  9.42451500e+01,  7.36990000e+00,\n",
       "        1.75530000e+00,  1.44220000e+00,  9.53650000e-01,  8.73403000e+01,\n",
       "        3.40190000e+00,  9.27072500e+01,  1.01220300e+02,  7.38285000e+00,\n",
       "        9.18181000e+01,  5.72845000e+00,  6.55020000e+00, -7.29900000e-01,\n",
       "        1.18361000e+01,  1.14533000e+01,  1.13674500e+01,  1.09400000e+01,\n",
       "        2.53570000e+00, -2.19530000e+00,  1.80330000e+00,  4.32400000e+00,\n",
       "        2.76390000e+00,  1.26269500e+01,  1.26164000e+01,  1.28122000e+01,\n",
       "        4.37685000e+00,  1.28011000e+01,  4.38160000e+00,  1.13233500e+01,\n",
       "        3.23420000e+00,  1.13937000e+01,  3.29075000e+00,  1.12674000e+01,\n",
       "        3.32210000e+00,  6.40900000e+00,  2.90185388e+07,  1.00000000e+00,\n",
       "        1.96600000e+03,  3.14030000e+00,  4.45046000e+01,  4.12883000e+01,\n",
       "        8.78000000e+00,  3.48910000e+00,  3.34390000e+00,  4.33109598e+05])"
      ]
     },
     "execution_count": 15,
     "metadata": {},
     "output_type": "execute_result"
    }
   ],
   "source": [
    "train_set.median().values"
   ]
  },
  {
   "cell_type": "code",
   "execution_count": 16,
   "metadata": {},
   "outputs": [],
   "source": [
    "X = imputer.transform(train_set)\n",
    "train_set_tr = pd.DataFrame(X,columns=train_set.columns,index=train_set.index)"
   ]
  },
  {
   "cell_type": "code",
   "execution_count": 17,
   "metadata": {},
   "outputs": [],
   "source": [
    "train_set = train_set_tr.drop('total_mv', axis=1)\n",
    "train_set_labels = train_set_tr['total_mv'].copy()"
   ]
  },
  {
   "cell_type": "code",
   "execution_count": null,
   "metadata": {},
   "outputs": [],
   "source": [
    "from sklearn.base import BaseEstimator, TransformerMixin"
   ]
  },
  {
   "cell_type": "code",
   "execution_count": 18,
   "metadata": {},
   "outputs": [],
   "source": [
    "from sklearn.pipeline import Pipeline\n",
    "from sklearn.preprocessing import StandardScaler\n",
    "\n",
    "num_pipeline = Pipeline([\n",
    "    ('imputer',SimpleImputer(strategy='median')),\n",
    "    # ('attribs_adder',CombinedAttributesAdder()),\n",
    "    ('std_scaler',StandardScaler()),\n",
    "])\n",
    "\n",
    "train_set_tr = num_pipeline.fit_transform(train_set)\n"
   ]
  },
  {
   "cell_type": "code",
   "execution_count": 22,
   "metadata": {},
   "outputs": [
    {
     "data": {
      "text/plain": [
       "array([[-0.84594086, -0.89148953, -0.0296747 , ..., -0.00215155,\n",
       "        -0.00650986, -0.00285038],\n",
       "       [ 0.24033425,  0.26958021, -0.03891503, ..., -0.00215155,\n",
       "        -0.01224253, -0.00285071],\n",
       "       [ 1.45697009,  1.56998657,  0.09932438, ..., -0.00215155,\n",
       "        -0.0172001 , -0.00285111],\n",
       "       ...,\n",
       "       [-0.34262503, -0.33908994, -0.04191647, ..., -0.00215155,\n",
       "        -0.01248196, -0.00285073],\n",
       "       [ 0.56372913,  0.6152422 , -0.03002102, ..., -0.00215155,\n",
       "         0.00533287, -0.00284921],\n",
       "       [ 1.39294677,  1.50155498,  0.02170765, ..., -0.00215155,\n",
       "        -0.01288484, -0.00285077]])"
      ]
     },
     "execution_count": 22,
     "metadata": {},
     "output_type": "execute_result"
    }
   ],
   "source": [
    "train_set_tr"
   ]
  },
  {
   "cell_type": "code",
   "execution_count": 23,
   "metadata": {},
   "outputs": [
    {
     "data": {
      "text/plain": [
       "166933    8.467530e+05\n",
       "152066    1.453836e+06\n",
       "124037    7.539491e+06\n",
       "189925    1.011021e+06\n",
       "37030     5.174742e+05\n",
       "              ...     \n",
       "24939     1.166968e+05\n",
       "9774      2.577600e+05\n",
       "39450     1.489901e+05\n",
       "125974    1.505049e+06\n",
       "149701    2.323968e+06\n",
       "Name: total_mv, Length: 123158, dtype: float64"
      ]
     },
     "execution_count": 23,
     "metadata": {},
     "output_type": "execute_result"
    }
   ],
   "source": [
    "train_set_labels"
   ]
  },
  {
   "cell_type": "code",
   "execution_count": 24,
   "metadata": {},
   "outputs": [
    {
     "data": {
      "text/plain": [
       "LinearRegression()"
      ]
     },
     "execution_count": 24,
     "metadata": {},
     "output_type": "execute_result"
    }
   ],
   "source": [
    "from sklearn.linear_model import LinearRegression\n",
    "\n",
    "lin_reg = LinearRegression()\n",
    "lin_reg.fit(train_set_tr, train_set_labels)"
   ]
  },
  {
   "cell_type": "code",
   "execution_count": 32,
   "metadata": {},
   "outputs": [
    {
     "data": {
      "text/plain": [
       "(123158, 171)"
      ]
     },
     "execution_count": 32,
     "metadata": {},
     "output_type": "execute_result"
    }
   ],
   "source": [
    "train_set_tr.shape"
   ]
  },
  {
   "cell_type": "code",
   "execution_count": 34,
   "metadata": {},
   "outputs": [
    {
     "data": {
      "text/plain": [
       "166933    8.467530e+05\n",
       "152066    1.453836e+06\n",
       "124037    7.539491e+06\n",
       "189925    1.011021e+06\n",
       "37030     5.174742e+05\n",
       "Name: total_mv, dtype: float64"
      ]
     },
     "execution_count": 34,
     "metadata": {},
     "output_type": "execute_result"
    }
   ],
   "source": [
    "train_set_labels.shape\n",
    "train_set_labels.head()"
   ]
  },
  {
   "cell_type": "code",
   "execution_count": 25,
   "metadata": {},
   "outputs": [
    {
     "name": "stdout",
     "output_type": "stream",
     "text": [
      "Predictions: [ 433679.20094975 1786825.14633192 3368972.43437588 2012630.59294711\n",
      "  383436.97538188]\n"
     ]
    }
   ],
   "source": [
    "some_data = train_set.iloc[:5]\n",
    "some_labels = train_set_labels.iloc[:5]\n",
    "some_data_prepared = num_pipeline.transform(some_data)\n",
    "print('Predictions:', lin_reg.predict(some_data))"
   ]
  },
  {
   "cell_type": "code",
   "execution_count": 26,
   "metadata": {},
   "outputs": [
    {
     "name": "stdout",
     "output_type": "stream",
     "text": [
      "Labels: [846753.0099, 1453835.9127, 7539490.6789, 1011021.0456, 517474.2351]\n"
     ]
    }
   ],
   "source": [
    "print(\"Labels:\", list(some_labels))"
   ]
  },
  {
   "cell_type": "code",
   "execution_count": 31,
   "metadata": {},
   "outputs": [],
   "source": [
    "def root_mean_squared_error(y_true, y_pred):\n",
    "    mse = mean_squared_error(y_true, y_pred)\n",
    "    rmse = np.sqrt(mse)\n",
    "    return rmse"
   ]
  },
  {
   "cell_type": "code",
   "execution_count": 35,
   "metadata": {},
   "outputs": [
    {
     "data": {
      "text/plain": [
       "1933697.0756348365"
      ]
     },
     "execution_count": 35,
     "metadata": {},
     "output_type": "execute_result"
    }
   ],
   "source": [
    "lin_preds = lin_reg.predict(some_data_prepared)\n",
    "lin_rmse = root_mean_squared_error(some_labels, lin_preds)\n",
    "lin_rmse"
   ]
  },
  {
   "cell_type": "code",
   "execution_count": 36,
   "metadata": {},
   "outputs": [
    {
     "data": {
      "text/plain": [
       "1210445.6188343032"
      ]
     },
     "execution_count": 36,
     "metadata": {},
     "output_type": "execute_result"
    }
   ],
   "source": [
    "from sklearn.metrics import mean_squared_error,mean_absolute_error\n",
    "\n",
    "lin_mae = mean_absolute_error(some_labels, lin_preds)\n",
    "lin_mae"
   ]
  },
  {
   "cell_type": "code",
   "execution_count": 37,
   "metadata": {},
   "outputs": [
    {
     "data": {
      "text/plain": [
       "1933697.0756348365"
      ]
     },
     "execution_count": 37,
     "metadata": {},
     "output_type": "execute_result"
    }
   ],
   "source": [
    "from sklearn.metrics import mean_squared_error\n",
    "total_mv_predict = lin_reg.predict(some_data_prepared)\n",
    "lin_mse = mean_squared_error(some_labels, total_mv_predict)\n",
    "lin_rmse = np.sqrt(lin_mse)\n",
    "lin_rmse"
   ]
  },
  {
   "cell_type": "code",
   "execution_count": 28,
   "metadata": {},
   "outputs": [
    {
     "data": {
      "text/plain": [
       "RandomForestRegressor()"
      ]
     },
     "execution_count": 28,
     "metadata": {},
     "output_type": "execute_result"
    }
   ],
   "source": [
    "from sklearn.ensemble import RandomForestRegressor\n",
    "forest_reg = RandomForestRegressor()\n",
    "forest_reg.fit(train_set_tr, train_set_labels)"
   ]
  },
  {
   "cell_type": "code",
   "execution_count": 29,
   "metadata": {},
   "outputs": [
    {
     "name": "stdout",
     "output_type": "stream",
     "text": [
      "Predictions: [ 822157.574911 1545807.419765 7658472.454264 1036346.809265\n",
      "  392989.619494]\n",
      "Labels: [846753.0099, 1453835.9127, 7539490.6789, 1011021.0456, 517474.2351]\n"
     ]
    }
   ],
   "source": [
    "print('Predictions:', forest_reg.predict(some_data_prepared))\n",
    "print(\"Labels:\", list(some_labels))\n"
   ]
  },
  {
   "cell_type": "code",
   "execution_count": 38,
   "metadata": {},
   "outputs": [
    {
     "data": {
      "text/plain": [
       "77071.81933779946"
      ]
     },
     "execution_count": 38,
     "metadata": {},
     "output_type": "execute_result"
    }
   ],
   "source": [
    "forest_pred = forest_reg.predict(some_data_prepared)\n",
    "lin_mae = mean_absolute_error(some_labels, forest_pred)\n",
    "lin_mae"
   ]
  },
  {
   "cell_type": "code",
   "execution_count": 39,
   "metadata": {},
   "outputs": [
    {
     "data": {
      "text/plain": [
       "['/Users/hanjie/Documents/GitHub/investtrack/diggings/model/rand_forest_model1.pkl']"
      ]
     },
     "execution_count": 39,
     "metadata": {},
     "output_type": "execute_result"
    }
   ],
   "source": [
    "import joblib\n",
    "\n",
    "joblib.dump(forest_reg, MODEL_PATH + 'rand_forest_model1.pkl')"
   ]
  },
  {
   "cell_type": "code",
   "execution_count": 41,
   "metadata": {},
   "outputs": [
    {
     "data": {
      "text/plain": [
       "array([1422209.457577,  566198.420919, 6498604.826716, 1471574.017562,\n",
       "       1612315.065731])"
      ]
     },
     "execution_count": 41,
     "metadata": {},
     "output_type": "execute_result"
    }
   ],
   "source": [
    "from sklearn.model_selection import cross_val_score\n",
    "\n",
    "scores = cross_val_score(\n",
    "    estimator=forest_reg,\n",
    "    X=some_data_prepared,\n",
    "    y=some_labels,\n",
    "    scoring='neg_mean_squared_error',\n",
    "    cv=5)\n",
    "forest_rmse_scores = np.sqrt(-scores)\n",
    "forest_rmse_scores"
   ]
  },
  {
   "cell_type": "code",
   "execution_count": 42,
   "metadata": {},
   "outputs": [
    {
     "name": "stdout",
     "output_type": "stream",
     "text": [
      "Scores:\n",
      " [1422209.457577  566198.420919 6498604.826716 1471574.017562\n",
      " 1612315.065731]\n",
      "\n",
      "Mean: 2314180.3577010008\n",
      "\n",
      "Standard deviation: 2124291.006778036\n"
     ]
    }
   ],
   "source": [
    "def display_scores(scores):\n",
    "    print(\"Scores:\\n\", scores)\n",
    "    print(\"\\nMean:\", scores.mean())\n",
    "    print(\"\\nStandard deviation:\", scores.std())\n",
    "\n",
    "display_scores(forest_rmse_scores)"
   ]
  },
  {
   "cell_type": "code",
   "execution_count": 43,
   "metadata": {},
   "outputs": [
    {
     "data": {
      "text/plain": [
       "2830797.934370491"
      ]
     },
     "execution_count": 43,
     "metadata": {},
     "output_type": "execute_result"
    }
   ],
   "source": [
    "from sklearn.svm import SVR\n",
    "\n",
    "svm_reg = SVR(kernel='linear')\n",
    "svm_reg.fit(train_set_tr, train_set_labels)\n",
    "svm_preds = svm_reg.predict(some_data_prepared)\n",
    "root_mean_squared_error(some_labels, svm_preds)"
   ]
  },
  {
   "cell_type": "code",
   "execution_count": 44,
   "metadata": {},
   "outputs": [
    {
     "name": "stdout",
     "output_type": "stream",
     "text": [
      "Predictions: [ 342183.24178868  670494.63314843 1280289.48384734 1000145.72675148\n",
      "  372034.7551399 ]\n",
      "Labels: [846753.0099, 1453835.9127, 7539490.6789, 1011021.0456, 517474.2351]\n"
     ]
    }
   ],
   "source": [
    "print('Predictions:', svm_reg.predict(some_data_prepared))\n",
    "print(\"Labels:\", list(some_labels))"
   ]
  },
  {
   "cell_type": "code",
   "execution_count": null,
   "metadata": {},
   "outputs": [],
   "source": []
  }
 ],
 "metadata": {
  "interpreter": {
   "hash": "fe28607977198402b39626e0e6b1ed8a08b6f6a65ffaa59c4eebd594c1eb49fe"
  },
  "kernelspec": {
   "display_name": "Python 3.8.2 64-bit ('venv1': venv)",
   "language": "python",
   "name": "python3"
  },
  "language_info": {
   "codemirror_mode": {
    "name": "ipython",
    "version": 3
   },
   "file_extension": ".py",
   "mimetype": "text/x-python",
   "name": "python",
   "nbconvert_exporter": "python",
   "pygments_lexer": "ipython3",
   "version": "3.8.2"
  },
  "orig_nbformat": 4
 },
 "nbformat": 4,
 "nbformat_minor": 2
}
